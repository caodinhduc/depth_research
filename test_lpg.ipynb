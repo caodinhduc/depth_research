{
 "cells": [
  {
   "cell_type": "code",
   "execution_count": 1,
   "id": "00c25d3f",
   "metadata": {},
   "outputs": [],
   "source": [
    "import torch\n",
    "import torch.nn as nn"
   ]
  },
  {
   "cell_type": "code",
   "execution_count": 15,
   "id": "fc6176c5",
   "metadata": {},
   "outputs": [],
   "source": [
    "class local_planar_guidance(nn.Module):\n",
    "    def __init__(self, upratio):\n",
    "        super(local_planar_guidance, self).__init__()\n",
    "        self.upratio = upratio\n",
    "        self.u = torch.arange(self.upratio).reshape([1, 1, self.upratio]).float()\n",
    "        self.v = torch.arange(int(self.upratio)).reshape([1, self.upratio, 1]).float()\n",
    "        self.upratio = float(upratio)\n",
    "\n",
    "    def forward(self, plane_eq, focal):\n",
    "        plane_eq_expanded = torch.repeat_interleave(plane_eq, int(self.upratio), 2)\n",
    "        plane_eq_expanded = torch.repeat_interleave(plane_eq_expanded, int(self.upratio), 3)\n",
    "        n1 = plane_eq_expanded[:, 0, :, :]\n",
    "        n2 = plane_eq_expanded[:, 1, :, :]\n",
    "        n3 = plane_eq_expanded[:, 2, :, :]\n",
    "        n4 = plane_eq_expanded[:, 3, :, :]\n",
    "        print('n1:', n1.shape)\n",
    "        \n",
    "        u = self.u.repeat(plane_eq.size(0), plane_eq.size(2) * int(self.upratio), plane_eq.size(3))\n",
    "        u = (u - (self.upratio - 1) * 0.5) / self.upratio\n",
    "        print('u: ',u.shape)\n",
    "        \n",
    "        v = self.v.repeat(plane_eq.size(0), plane_eq.size(2), plane_eq.size(3) * int(self.upratio))\n",
    "        v = (v - (self.upratio - 1) * 0.5) / self.upratio\n",
    "        print('v: ',v.shape)\n",
    "        \n",
    "        print('n4: ',n4.shape)\n",
    "        return n4 / (n1 * u + n2 * v + n3)"
   ]
  },
  {
   "cell_type": "code",
   "execution_count": 23,
   "id": "b474383a",
   "metadata": {},
   "outputs": [],
   "source": [
    "lpg = local_planar_guidance(4)"
   ]
  },
  {
   "cell_type": "code",
   "execution_count": 24,
   "id": "1090e2a3",
   "metadata": {},
   "outputs": [],
   "source": [
    "input = torch.rand((3, 4, 56, 112))"
   ]
  },
  {
   "cell_type": "code",
   "execution_count": 25,
   "id": "8d9da056",
   "metadata": {},
   "outputs": [
    {
     "data": {
      "text/plain": [
       "torch.Size([3, 4, 56, 112])"
      ]
     },
     "execution_count": 25,
     "metadata": {},
     "output_type": "execute_result"
    }
   ],
   "source": [
    "input.shape"
   ]
  },
  {
   "cell_type": "code",
   "execution_count": 26,
   "id": "264cab4e",
   "metadata": {},
   "outputs": [
    {
     "name": "stdout",
     "output_type": "stream",
     "text": [
      "n1: torch.Size([3, 224, 448])\n",
      "u:  torch.Size([3, 224, 448])\n",
      "v:  torch.Size([3, 224, 448])\n",
      "n4:  torch.Size([3, 224, 448])\n"
     ]
    }
   ],
   "source": [
    "out = lpg(input, 1)"
   ]
  },
  {
   "cell_type": "code",
   "execution_count": 27,
   "id": "d3880b71",
   "metadata": {},
   "outputs": [
    {
     "data": {
      "text/plain": [
       "torch.Size([3, 224, 448])"
      ]
     },
     "execution_count": 27,
     "metadata": {},
     "output_type": "execute_result"
    }
   ],
   "source": [
    "out.shape"
   ]
  },
  {
   "cell_type": "code",
   "execution_count": 28,
   "id": "4f2b1fed",
   "metadata": {},
   "outputs": [
    {
     "data": {
      "text/plain": [
       "tensor([[[ 6.0305e-01,  5.7900e-01,  5.5680e-01,  ..., -2.6612e+00,\n",
       "          -9.9128e+00,  5.7467e+00],\n",
       "         [ 5.3989e-01,  5.2054e-01,  5.0252e-01,  ..., -5.5489e+00,\n",
       "           1.0562e+01,  2.7058e+00],\n",
       "         [ 4.8871e-01,  4.7280e-01,  4.5789e-01,  ...,  6.5174e+01,\n",
       "           3.4455e+00,  1.7695e+00],\n",
       "         ...,\n",
       "         [ 1.3916e+01,  1.1080e+01,  9.2040e+00,  ...,  1.0476e+00,\n",
       "           1.0138e+00,  9.8218e-01],\n",
       "         [ 6.9300e+00,  6.1465e+00,  5.5221e+00,  ...,  9.2314e-01,\n",
       "           8.9684e-01,  8.7200e-01],\n",
       "         [ 4.6138e+00,  4.2528e+00,  3.9443e+00,  ...,  8.2514e-01,\n",
       "           8.0406e-01,  7.8404e-01]],\n",
       "\n",
       "        [[ 1.3931e+00,  1.2106e+00,  1.0703e+00,  ..., -2.7406e+01,\n",
       "           5.2148e+00,  2.3809e+00],\n",
       "         [ 1.2493e+00,  1.1005e+00,  9.8339e-01,  ...,  5.0985e+00,\n",
       "           2.3563e+00,  1.5322e+00],\n",
       "         [ 1.1325e+00,  1.0088e+00,  9.0952e-01,  ...,  2.3323e+00,\n",
       "           1.5220e+00,  1.1296e+00],\n",
       "         ...,\n",
       "         [ 7.9007e-01,  6.5254e-01,  5.5579e-01,  ..., -2.8318e+00,\n",
       "           5.1866e+00,  1.3537e+00],\n",
       "         [ 5.5981e-01,  4.8707e-01,  4.3106e-01,  ...,  5.2713e+01,\n",
       "           1.7702e+00,  9.0021e-01],\n",
       "         [ 4.3348e-01,  3.8855e-01,  3.5206e-01,  ...,  2.5570e+00,\n",
       "           1.0672e+00,  6.7433e-01]],\n",
       "\n",
       "        [[ 9.1497e-01,  8.3176e-01,  7.6243e-01,  ...,  1.5438e-01,\n",
       "           1.1807e-01,  9.5590e-02],\n",
       "         [ 6.4314e-01,  6.0089e-01,  5.6385e-01,  ...,  1.3635e-01,\n",
       "           1.0723e-01,  8.8357e-02],\n",
       "         [ 4.9584e-01,  4.7034e-01,  4.4733e-01,  ...,  1.2210e-01,\n",
       "           9.8211e-02,  8.2142e-02],\n",
       "         ...,\n",
       "         [ 1.2059e+00,  7.7918e-01,  5.7552e-01,  ...,  2.6343e-02,\n",
       "           2.0116e-02,  1.6270e-02],\n",
       "         [ 8.5015e-01,  6.1334e-01,  4.7972e-01,  ...,  2.0163e-02,\n",
       "           1.6301e-02,  1.3681e-02],\n",
       "         [ 6.5648e-01,  5.0571e-01,  4.1126e-01,  ...,  1.6332e-02,\n",
       "           1.3703e-02,  1.1802e-02]]])"
      ]
     },
     "execution_count": 28,
     "metadata": {},
     "output_type": "execute_result"
    }
   ],
   "source": [
    "out"
   ]
  },
  {
   "cell_type": "code",
   "execution_count": 23,
   "id": "1f49213d",
   "metadata": {},
   "outputs": [
    {
     "data": {
      "text/plain": [
       "tensor(-1.4884)"
      ]
     },
     "execution_count": 23,
     "metadata": {},
     "output_type": "execute_result"
    }
   ],
   "source": [
    "torch.mean(out)"
   ]
  },
  {
   "cell_type": "code",
   "execution_count": null,
   "id": "8525b56c",
   "metadata": {},
   "outputs": [],
   "source": []
  }
 ],
 "metadata": {
  "kernelspec": {
   "display_name": "Python 3 (ipykernel)",
   "language": "python",
   "name": "python3"
  },
  "language_info": {
   "codemirror_mode": {
    "name": "ipython",
    "version": 3
   },
   "file_extension": ".py",
   "mimetype": "text/x-python",
   "name": "python",
   "nbconvert_exporter": "python",
   "pygments_lexer": "ipython3",
   "version": "3.8.12"
  }
 },
 "nbformat": 4,
 "nbformat_minor": 5
}

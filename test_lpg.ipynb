{
 "cells": [
  {
   "cell_type": "code",
   "execution_count": 1,
   "id": "00c25d3f",
   "metadata": {},
   "outputs": [],
   "source": [
    "import torch\n",
    "import torch.nn as nn"
   ]
  },
  {
   "cell_type": "code",
   "execution_count": 2,
   "id": "fc6176c5",
   "metadata": {},
   "outputs": [],
   "source": [
    "class local_planar_guidance(nn.Module):\n",
    "    def __init__(self, upratio):\n",
    "        super(local_planar_guidance, self).__init__()\n",
    "        self.upratio = upratio\n",
    "        self.u = torch.arange(self.upratio).reshape([1, 1, self.upratio]).float()\n",
    "        self.v = torch.arange(int(self.upratio)).reshape([1, self.upratio, 1]).float()\n",
    "        self.upratio = float(upratio)\n",
    "\n",
    "    def forward(self, plane_eq, focal):\n",
    "        plane_eq_expanded = torch.repeat_interleave(plane_eq, int(self.upratio), 2)\n",
    "        plane_eq_expanded = torch.repeat_interleave(plane_eq_expanded, int(self.upratio), 3)\n",
    "        n1 = plane_eq_expanded[:, 0, :, :]\n",
    "        n2 = plane_eq_expanded[:, 1, :, :]\n",
    "        n3 = plane_eq_expanded[:, 2, :, :]\n",
    "        n4 = plane_eq_expanded[:, 3, :, :]\n",
    "        \n",
    "        u = self.u.repeat(plane_eq.size(0), plane_eq.size(2) * int(self.upratio), plane_eq.size(3))\n",
    "        u = (u - (self.upratio - 1) * 0.5) / self.upratio\n",
    "        \n",
    "        v = self.v.repeat(plane_eq.size(0), plane_eq.size(2), plane_eq.size(3) * int(self.upratio))\n",
    "        v = (v - (self.upratio - 1) * 0.5) / self.upratio\n",
    "\n",
    "        return n4 / (n1 * u + n2 * v + n3)"
   ]
  },
  {
   "cell_type": "code",
   "execution_count": 3,
   "id": "b474383a",
   "metadata": {},
   "outputs": [],
   "source": [
    "lpg = local_planar_guidance(2)"
   ]
  },
  {
   "cell_type": "code",
   "execution_count": 4,
   "id": "1090e2a3",
   "metadata": {},
   "outputs": [],
   "source": [
    "input = torch.rand((3, 64, 56, 112))"
   ]
  },
  {
   "cell_type": "code",
   "execution_count": 5,
   "id": "264cab4e",
   "metadata": {},
   "outputs": [],
   "source": [
    "out = lpg(input, 1)"
   ]
  },
  {
   "cell_type": "code",
   "execution_count": 6,
   "id": "d3880b71",
   "metadata": {},
   "outputs": [
    {
     "data": {
      "text/plain": [
       "torch.Size([3, 112, 224])"
      ]
     },
     "execution_count": 6,
     "metadata": {},
     "output_type": "execute_result"
    }
   ],
   "source": [
    "out.shape"
   ]
  },
  {
   "cell_type": "code",
   "execution_count": 10,
   "id": "d5533e9f",
   "metadata": {},
   "outputs": [
    {
     "data": {
      "text/plain": [
       "torch.Size([3, 1, 112, 224])"
      ]
     },
     "execution_count": 10,
     "metadata": {},
     "output_type": "execute_result"
    }
   ],
   "source": [
    "torch.unsqueeze(out, 1).shape"
   ]
  },
  {
   "cell_type": "code",
   "execution_count": null,
   "id": "4f2b1fed",
   "metadata": {},
   "outputs": [],
   "source": []
  }
 ],
 "metadata": {
  "kernelspec": {
   "display_name": "Python 3 (ipykernel)",
   "language": "python",
   "name": "python3"
  },
  "language_info": {
   "codemirror_mode": {
    "name": "ipython",
    "version": 3
   },
   "file_extension": ".py",
   "mimetype": "text/x-python",
   "name": "python",
   "nbconvert_exporter": "python",
   "pygments_lexer": "ipython3",
   "version": "3.8.12"
  }
 },
 "nbformat": 4,
 "nbformat_minor": 5
}

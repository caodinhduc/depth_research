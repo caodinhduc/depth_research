{
 "cells": [
  {
   "cell_type": "code",
   "execution_count": 1,
   "id": "00c25d3f",
   "metadata": {},
   "outputs": [],
   "source": [
    "import torch\n",
    "import torch.nn as nn"
   ]
  },
  {
   "cell_type": "code",
   "execution_count": 9,
   "id": "fc6176c5",
   "metadata": {},
   "outputs": [],
   "source": [
    "class local_planar_guidance(nn.Module):\n",
    "    def __init__(self, upratio):\n",
    "        super(local_planar_guidance, self).__init__()\n",
    "        self.upratio = upratio\n",
    "        self.u = torch.arange(self.upratio).reshape([1, 1, self.upratio]).float()\n",
    "        self.v = torch.arange(int(self.upratio)).reshape([1, self.upratio, 1]).float()\n",
    "        self.upratio = float(upratio)\n",
    "\n",
    "    def forward(self, plane_eq, focal):\n",
    "        plane_eq_expanded = torch.repeat_interleave(plane_eq, int(self.upratio), 2)\n",
    "        plane_eq_expanded = torch.repeat_interleave(plane_eq_expanded, int(self.upratio), 3)\n",
    "        n1 = plane_eq_expanded[:, 0, :, :]\n",
    "        n2 = plane_eq_expanded[:, 1, :, :]\n",
    "        n3 = plane_eq_expanded[:, 2, :, :]\n",
    "        n4 = plane_eq_expanded[:, 3, :, :]\n",
    "        \n",
    "        u = self.u.repeat(plane_eq.size(0), plane_eq.size(2) * int(self.upratio), plane_eq.size(3))\n",
    "        u = (u - (self.upratio - 1) * 0.5) / self.upratio\n",
    "        \n",
    "        v = self.v.repeat(plane_eq.size(0), plane_eq.size(2), plane_eq.size(3) * int(self.upratio))\n",
    "        v = (v - (self.upratio - 1) * 0.5) / self.upratio\n",
    "\n",
    "        return n4 / (n1 * u + n2 * v + n3)"
   ]
  },
  {
   "cell_type": "code",
   "execution_count": 18,
   "id": "b474383a",
   "metadata": {},
   "outputs": [],
   "source": [
    "lpg = local_planar_guidance(2)"
   ]
  },
  {
   "cell_type": "code",
   "execution_count": 19,
   "id": "1090e2a3",
   "metadata": {},
   "outputs": [],
   "source": [
    "input = torch.rand((3, 64, 56, 112))"
   ]
  },
  {
   "cell_type": "code",
   "execution_count": 20,
   "id": "264cab4e",
   "metadata": {},
   "outputs": [],
   "source": [
    "out = lpg(input, 1)"
   ]
  },
  {
   "cell_type": "code",
   "execution_count": 21,
   "id": "d3880b71",
   "metadata": {},
   "outputs": [
    {
     "data": {
      "text/plain": [
       "torch.Size([3, 112, 224])"
      ]
     },
     "execution_count": 21,
     "metadata": {},
     "output_type": "execute_result"
    }
   ],
   "source": [
    "out.shape"
   ]
  },
  {
   "cell_type": "code",
   "execution_count": 22,
   "id": "4f2b1fed",
   "metadata": {},
   "outputs": [
    {
     "data": {
      "text/plain": [
       "tensor([[[  0.2193,   0.1056,   3.1676,  ...,   0.8431,   0.9337,   0.7985],\n",
       "         [  0.1284,   0.0788,   1.0557,  ...,   0.6134,   0.5277,   0.4817],\n",
       "         [ -1.0997,   2.3664,  -3.0942,  ...,   1.4981,  -0.5578,   7.3888],\n",
       "         ...,\n",
       "         [  0.8632,   0.7793,   1.5923,  ...,   4.2318,   0.5301,   0.3695],\n",
       "         [  4.8367,   1.6146,   0.5885,  ...,   1.2237,   1.1499,   0.8050],\n",
       "         [  2.0622,   1.1142,   0.2089,  ...,   0.7335,   0.4999,   0.4214]],\n",
       "\n",
       "        [[ -6.3920,   0.7919,   1.5745,  ...,   0.1941,   3.9621,   1.3609],\n",
       "         [  2.3017,   0.5395,   1.5041,  ...,   0.0559,   1.6003,   0.9031],\n",
       "         [  3.8978,   3.7995,   3.9643,  ...,   4.8488,   9.1098,   1.6297],\n",
       "         ...,\n",
       "         [  1.8510,   0.8313,   1.2431,  ...,   0.2215,   1.2058,   0.9787],\n",
       "         [  5.5132,   4.6277,   2.4093,  ...,   3.4904,  -1.6510,   7.1536],\n",
       "         [  2.8292,   2.5762,   1.1768,  ...,   3.0055,  12.4282,   1.2107]],\n",
       "\n",
       "        [[ -3.2323,  47.8861, -11.9774,  ...,   1.1123,   0.6928,   0.6005],\n",
       "         [  3.2905,   1.5769,   3.9452,  ...,   0.4811,   0.3828,   0.3528],\n",
       "         [  0.6850,   0.3913,   1.0474,  ...,   1.7491,  -4.6918, -13.6509],\n",
       "         ...,\n",
       "         [  2.1905,   1.0567,   0.9237,  ...,   0.8006,   0.5498,   0.4578],\n",
       "         [  0.5130,   0.2373,   1.4444,  ...,   0.4744,   1.4714,   0.9422],\n",
       "         [  0.2062,   0.1406,   1.4250,  ...,   0.4363,   1.2405,   0.8418]]])"
      ]
     },
     "execution_count": 22,
     "metadata": {},
     "output_type": "execute_result"
    }
   ],
   "source": [
    "out"
   ]
  },
  {
   "cell_type": "code",
   "execution_count": 23,
   "id": "1f49213d",
   "metadata": {},
   "outputs": [
    {
     "data": {
      "text/plain": [
       "tensor(-1.4884)"
      ]
     },
     "execution_count": 23,
     "metadata": {},
     "output_type": "execute_result"
    }
   ],
   "source": [
    "torch.mean(out)"
   ]
  },
  {
   "cell_type": "code",
   "execution_count": null,
   "id": "8525b56c",
   "metadata": {},
   "outputs": [],
   "source": []
  }
 ],
 "metadata": {
  "kernelspec": {
   "display_name": "Python 3 (ipykernel)",
   "language": "python",
   "name": "python3"
  },
  "language_info": {
   "codemirror_mode": {
    "name": "ipython",
    "version": 3
   },
   "file_extension": ".py",
   "mimetype": "text/x-python",
   "name": "python",
   "nbconvert_exporter": "python",
   "pygments_lexer": "ipython3",
   "version": "3.8.12"
  }
 },
 "nbformat": 4,
 "nbformat_minor": 5
}

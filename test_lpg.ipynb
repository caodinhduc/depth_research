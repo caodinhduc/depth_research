{
 "cells": [
  {
   "cell_type": "code",
   "execution_count": 34,
   "id": "00c25d3f",
   "metadata": {},
   "outputs": [],
   "source": [
    "import torch\n",
    "import torch.nn as nn\n",
    "import torch.nn.functional as F"
   ]
  },
  {
   "cell_type": "code",
   "execution_count": 24,
   "id": "75db5aff",
   "metadata": {},
   "outputs": [],
   "source": [
    "import math"
   ]
  },
  {
   "cell_type": "code",
   "execution_count": 19,
   "id": "427ee063",
   "metadata": {},
   "outputs": [],
   "source": [
    "class Reduction(nn.Module):\n",
    "    def __init__(self, scale, input_filters, is_final=False):\n",
    "        super(Reduction, self).__init__()\n",
    "        reduction_count = int(math.log(input_filters, 2)) - 2\n",
    "        self.reductions = torch.nn.Sequential()\n",
    "        for i in range(reduction_count):\n",
    "            if i != reduction_count-1:\n",
    "                self.reductions.add_module(\"1x1_reduc_%d_%d\" % (scale, i), nn.Sequential(\n",
    "                    nn.Con`v2d(int(input_filters / math.pow(2, i)), int(input_filters / math.pow(2, i + 1)), 1, 1, 0, bias=ENABLE_BIAS),\n",
    "                    activation_fn))\n",
    "            else:\n",
    "                if not is_final:\n",
    "                    self.reductions.add_module(\"1x1_reduc_%d_%d\" % (scale, i), nn.Sequential(\n",
    "                        nn.Conv2d(int(input_filters / math.pow(2, i)), int(input_filters / math.pow(2, i + 1)), 1, 1, 0, bias=ENABLE_BIAS)))\n",
    "                else:\n",
    "                    self.reductions.add_module(\"1x1_reduc_%d_%d\" % (scale, i), nn.Sequential(\n",
    "                        nn.Conv2d(int(input_filters / math.pow(2, i)), 1, 1, 1, 0, bias=ENABLE_BIAS), nn.Sigmoid()))\n",
    "\n",
    "    def forward(self, ip):\n",
    "        return self.reductions(ip)"
   ]
  },
  {
   "cell_type": "code",
   "execution_count": 36,
   "id": "44bd78d5",
   "metadata": {},
   "outputs": [],
   "source": [
    "class LPGLayer(nn.Module):\n",
    "    def __init__(self, scale):\n",
    "        super(LPGLayer, self).__init__()\n",
    "        self.scale = scale\n",
    "        self.u = torch.arange(self.scale).reshape([1, 1, self.scale]).float()\n",
    "        self.v = torch.arange(int(self.scale)).reshape([1, self.scale, 1]).float()\n",
    "\n",
    "    def forward(self, plane_eq):\n",
    "        plane_eq_expanded = torch.repeat_interleave(plane_eq, int(self.scale), 2)\n",
    "        plane_eq_expanded = torch.repeat_interleave(plane_eq_expanded, int(self.scale), 3)\n",
    "\n",
    "        n1 = plane_eq_expanded[:, 0, :, :]\n",
    "        n2 = plane_eq_expanded[:, 1, :, :]\n",
    "        n3 = plane_eq_expanded[:, 2, :, :]\n",
    "        n4 = plane_eq_expanded[:, 3, :, :]\n",
    "\n",
    "        u = self.u.repeat(plane_eq.size(0), plane_eq.size(2) * int(self.scale), plane_eq.size(3))\n",
    "        u = (u - (self.scale - 1) * 0.5) / self.scale\n",
    "\n",
    "        v = self.v.repeat(plane_eq.size(0), plane_eq.size(2), plane_eq.size(3) * int(self.scale))\n",
    "        v = (v - (self.scale - 1) * 0.5) / self.scale\n",
    "\n",
    "        d = n4 / (n1 * u + n2 * v + n3)\n",
    "        d = d.unsqueeze(1)\n",
    "        return d"
   ]
  },
  {
   "cell_type": "code",
   "execution_count": 63,
   "id": "7cc50c7a",
   "metadata": {},
   "outputs": [],
   "source": [
    "class LPGBlock(nn.Module):\n",
    "    def __init__(self, scale, input_filters=128):\n",
    "        super(LPGBlock, self).__init__()\n",
    "        self.scale = scale\n",
    "\n",
    "        self.reduction = Reduction(scale, input_filters)\n",
    "\n",
    "        self.conv = nn.Conv2d(5, 3, 1, 1, 0)\n",
    "        self.LPGLayer = LPGLayer(scale)\n",
    "\n",
    "    def forward(self, input):\n",
    "        input = self.reduction(input)\n",
    "\n",
    "        plane_parameters = torch.zeros_like(input)\n",
    "        input = self.conv(input)\n",
    "\n",
    "        theta = input[:, 0, :, :].sigmoid() * 3.1415926535 / 6\n",
    "        phi = input[:, 1, :, :].sigmoid() * 3.1415926535 * 2\n",
    "        dist = input[:, 2, :, :].sigmoid() * MAX_DEPTH\n",
    "\n",
    "        plane_parameters[:, 0, :, :] = torch.sin(theta) * torch.cos(phi)\n",
    "        plane_parameters[:, 1, :, :] = torch.sin(theta) * torch.sin(phi)\n",
    "        plane_parameters[:, 2, :, :] = torch.cos(theta)\n",
    "        plane_parameters[:, 3, :, :] = dist\n",
    "\n",
    "        plane_parameters[:, 0:3, :, :] = F.normalize(plane_parameters.clone()[:, 0:3, :, :], 2, 1)\n",
    "\n",
    "        depth = self.LPGLayer(plane_parameters.float())\n",
    "        return depth"
   ]
  },
  {
   "cell_type": "code",
   "execution_count": 64,
   "id": "99056e32",
   "metadata": {},
   "outputs": [],
   "source": [
    "MAX_DEPTH = 81\n",
    "MAX_DEPTH = 81\n",
    "DEPTH_OFFSET = 0.1 # This is used for ensuring depth prediction gets into positive range\n",
    "\n",
    "USE_APEX = False  # Enable if you have GPU with Tensor Cores, otherwise doesnt really bring any benefits.\n",
    "APEX_OPT_LEVEL = \"O2\"\n",
    "\n",
    "BATCH_NORM_MOMENTUM = 0.005\n",
    "ENABLE_BIAS = True\n",
    "activation_fn = nn.ELU()"
   ]
  },
  {
   "cell_type": "code",
   "execution_count": 65,
   "id": "afbe0449",
   "metadata": {},
   "outputs": [],
   "source": [
    "LPGBlock4 = LPGBlock(1, 4)"
   ]
  },
  {
   "cell_type": "code",
   "execution_count": 67,
   "id": "8eebff0b",
   "metadata": {},
   "outputs": [
    {
     "data": {
      "text/plain": [
       "torch.Size([4, 1, 352, 704])"
      ]
     },
     "execution_count": 67,
     "metadata": {},
     "output_type": "execute_result"
    }
   ],
   "source": [
    "LPGBlock4(x).shape"
   ]
  },
  {
   "cell_type": "code",
   "execution_count": 68,
   "id": "17f53beb",
   "metadata": {},
   "outputs": [],
   "source": [
    "reduction = Reduction(1, 4)"
   ]
  },
  {
   "cell_type": "code",
   "execution_count": 69,
   "id": "f15645c7",
   "metadata": {},
   "outputs": [],
   "source": [
    "x = torch.rand([3, 4, 352, 704])"
   ]
  },
  {
   "cell_type": "code",
   "execution_count": 71,
   "id": "a2636339",
   "metadata": {},
   "outputs": [
    {
     "data": {
      "text/plain": [
       "tensor([[[[0.6199, 0.6629, 0.5168,  ..., 0.6218, 0.6811, 0.6018],\n",
       "          [0.6344, 0.6472, 0.5368,  ..., 0.7207, 0.5295, 0.5785],\n",
       "          [0.5695, 0.5420, 0.6487,  ..., 0.5319, 0.5907, 0.6410],\n",
       "          ...,\n",
       "          [0.6446, 0.6216, 0.5215,  ..., 0.5700, 0.5135, 0.5394],\n",
       "          [0.5818, 0.7121, 0.6871,  ..., 0.7271, 0.7117, 0.6990],\n",
       "          [0.7185, 0.5368, 0.5582,  ..., 0.6655, 0.5154, 0.7248]],\n",
       "\n",
       "         [[0.5056, 0.7238, 0.5881,  ..., 0.7266, 0.7020, 0.6906],\n",
       "          [0.5608, 0.7154, 0.5022,  ..., 0.5459, 0.6429, 0.6346],\n",
       "          [0.5665, 0.5611, 0.6589,  ..., 0.5121, 0.5509, 0.6709],\n",
       "          ...,\n",
       "          [0.7095, 0.5400, 0.5371,  ..., 0.6107, 0.6527, 0.5869],\n",
       "          [0.6618, 0.6109, 0.5155,  ..., 0.6573, 0.5714, 0.6273],\n",
       "          [0.6636, 0.5847, 0.5493,  ..., 0.7166, 0.6289, 0.6497]],\n",
       "\n",
       "         [[0.5708, 0.5820, 0.6117,  ..., 0.5183, 0.5054, 0.6664],\n",
       "          [0.5726, 0.6866, 0.6817,  ..., 0.6516, 0.5238, 0.5403],\n",
       "          [0.6498, 0.6354, 0.7232,  ..., 0.6191, 0.5053, 0.6041],\n",
       "          ...,\n",
       "          [0.6927, 0.6838, 0.5890,  ..., 0.6598, 0.5851, 0.6156],\n",
       "          [0.5773, 0.6382, 0.7197,  ..., 0.6605, 0.7223, 0.6650],\n",
       "          [0.5960, 0.5534, 0.6180,  ..., 0.6729, 0.5168, 0.6234]],\n",
       "\n",
       "         [[0.6293, 0.6712, 0.5233,  ..., 0.5997, 0.5757, 0.6339],\n",
       "          [0.6577, 0.5629, 0.5326,  ..., 0.5780, 0.6261, 0.6582],\n",
       "          [0.6283, 0.6248, 0.7014,  ..., 0.7224, 0.7235, 0.6128],\n",
       "          ...,\n",
       "          [0.6971, 0.7136, 0.6272,  ..., 0.6186, 0.7275, 0.5586],\n",
       "          [0.6040, 0.5546, 0.5686,  ..., 0.6359, 0.5712, 0.7219],\n",
       "          [0.6415, 0.6496, 0.5223,  ..., 0.6405, 0.6701, 0.6925]]],\n",
       "\n",
       "\n",
       "        [[[0.6471, 0.5578, 0.6486,  ..., 0.5256, 0.5791, 0.5797],\n",
       "          [0.7121, 0.7250, 0.7161,  ..., 0.6373, 0.6671, 0.6730],\n",
       "          [0.5307, 0.7222, 0.6507,  ..., 0.6241, 0.6642, 0.5221],\n",
       "          ...,\n",
       "          [0.7043, 0.7168, 0.6657,  ..., 0.6603, 0.6861, 0.6931],\n",
       "          [0.6991, 0.6932, 0.7283,  ..., 0.6629, 0.7122, 0.6986],\n",
       "          [0.5485, 0.6202, 0.6235,  ..., 0.6855, 0.6770, 0.7190]],\n",
       "\n",
       "         [[0.5218, 0.5926, 0.6555,  ..., 0.5343, 0.6388, 0.6489],\n",
       "          [0.5086, 0.6546, 0.5725,  ..., 0.6994, 0.5531, 0.6608],\n",
       "          [0.5494, 0.5741, 0.5114,  ..., 0.5500, 0.6645, 0.5716],\n",
       "          ...,\n",
       "          [0.7119, 0.6971, 0.5447,  ..., 0.7301, 0.7031, 0.6658],\n",
       "          [0.7230, 0.5286, 0.6841,  ..., 0.6771, 0.6943, 0.6616],\n",
       "          [0.5759, 0.5695, 0.7109,  ..., 0.5834, 0.6454, 0.6298]],\n",
       "\n",
       "         [[0.6386, 0.7038, 0.5123,  ..., 0.7211, 0.5326, 0.7286],\n",
       "          [0.5152, 0.5901, 0.6674,  ..., 0.5562, 0.7274, 0.5005],\n",
       "          [0.6618, 0.6979, 0.5485,  ..., 0.5506, 0.5503, 0.6398],\n",
       "          ...,\n",
       "          [0.7005, 0.6251, 0.6515,  ..., 0.5313, 0.7271, 0.6349],\n",
       "          [0.5758, 0.5882, 0.5655,  ..., 0.7196, 0.7136, 0.6266],\n",
       "          [0.5078, 0.6610, 0.6928,  ..., 0.7286, 0.5650, 0.7183]],\n",
       "\n",
       "         [[0.5977, 0.5480, 0.6640,  ..., 0.5321, 0.5935, 0.6267],\n",
       "          [0.5319, 0.6538, 0.7194,  ..., 0.6998, 0.5965, 0.6966],\n",
       "          [0.6362, 0.6519, 0.6415,  ..., 0.6548, 0.6934, 0.7285],\n",
       "          ...,\n",
       "          [0.6036, 0.7203, 0.6920,  ..., 0.6673, 0.5720, 0.6796],\n",
       "          [0.5536, 0.6773, 0.6990,  ..., 0.5895, 0.6439, 0.6585],\n",
       "          [0.5953, 0.5639, 0.5653,  ..., 0.6173, 0.7027, 0.6126]]],\n",
       "\n",
       "\n",
       "        [[[0.5956, 0.5661, 0.7179,  ..., 0.6306, 0.6710, 0.6646],\n",
       "          [0.6317, 0.6325, 0.6737,  ..., 0.5097, 0.6744, 0.7209],\n",
       "          [0.5866, 0.7100, 0.5937,  ..., 0.5204, 0.6829, 0.6860],\n",
       "          ...,\n",
       "          [0.6247, 0.6528, 0.5444,  ..., 0.6559, 0.5144, 0.6644],\n",
       "          [0.6469, 0.5812, 0.6360,  ..., 0.5789, 0.6147, 0.7064],\n",
       "          [0.6874, 0.6098, 0.6960,  ..., 0.5603, 0.5279, 0.5178]],\n",
       "\n",
       "         [[0.5990, 0.6634, 0.5897,  ..., 0.7103, 0.7050, 0.5641],\n",
       "          [0.6702, 0.6286, 0.6380,  ..., 0.5605, 0.6857, 0.6124],\n",
       "          [0.5804, 0.6989, 0.6206,  ..., 0.7301, 0.6766, 0.6317],\n",
       "          ...,\n",
       "          [0.7249, 0.5416, 0.6637,  ..., 0.5490, 0.5317, 0.5005],\n",
       "          [0.7260, 0.6625, 0.5131,  ..., 0.5654, 0.5876, 0.5870],\n",
       "          [0.6551, 0.7060, 0.6641,  ..., 0.5104, 0.5361, 0.5178]],\n",
       "\n",
       "         [[0.6599, 0.7049, 0.6693,  ..., 0.6895, 0.5578, 0.7265],\n",
       "          [0.6873, 0.7254, 0.7213,  ..., 0.6038, 0.5277, 0.5655],\n",
       "          [0.7109, 0.6709, 0.5492,  ..., 0.6457, 0.5469, 0.5097],\n",
       "          ...,\n",
       "          [0.5764, 0.5565, 0.6063,  ..., 0.6075, 0.6889, 0.7211],\n",
       "          [0.5014, 0.6634, 0.6419,  ..., 0.5389, 0.5805, 0.7231],\n",
       "          [0.5741, 0.7124, 0.7025,  ..., 0.6071, 0.5125, 0.7040]],\n",
       "\n",
       "         [[0.5405, 0.6055, 0.6702,  ..., 0.6772, 0.6053, 0.5098],\n",
       "          [0.5255, 0.5220, 0.6814,  ..., 0.7167, 0.5639, 0.6628],\n",
       "          [0.5185, 0.5139, 0.5752,  ..., 0.5588, 0.6622, 0.7243],\n",
       "          ...,\n",
       "          [0.6286, 0.6703, 0.6027,  ..., 0.5450, 0.6939, 0.6193],\n",
       "          [0.6255, 0.5355, 0.6693,  ..., 0.5549, 0.5547, 0.6170],\n",
       "          [0.5830, 0.7108, 0.5483,  ..., 0.6795, 0.6941, 0.5547]]]])"
      ]
     },
     "execution_count": 71,
     "metadata": {},
     "output_type": "execute_result"
    }
   ],
   "source": [
    "reduction(x).sigmoid()"
   ]
  },
  {
   "cell_type": "code",
   "execution_count": null,
   "id": "4b48faf8",
   "metadata": {},
   "outputs": [],
   "source": []
  }
 ],
 "metadata": {
  "kernelspec": {
   "display_name": "Python 3 (ipykernel)",
   "language": "python",
   "name": "python3"
  },
  "language_info": {
   "codemirror_mode": {
    "name": "ipython",
    "version": 3
   },
   "file_extension": ".py",
   "mimetype": "text/x-python",
   "name": "python",
   "nbconvert_exporter": "python",
   "pygments_lexer": "ipython3",
   "version": "3.8.12"
  }
 },
 "nbformat": 4,
 "nbformat_minor": 5
}

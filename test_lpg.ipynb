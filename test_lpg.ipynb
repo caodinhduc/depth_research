{
 "cells": [
  {
   "cell_type": "code",
   "execution_count": 34,
   "id": "00c25d3f",
   "metadata": {},
   "outputs": [],
   "source": [
    "import torch\n",
    "import torch.nn as nn\n",
    "import torch.nn.functional as F"
   ]
  },
  {
   "cell_type": "code",
   "execution_count": 24,
   "id": "31f56ade",
   "metadata": {},
   "outputs": [],
   "source": [
    "import math"
   ]
  },
  {
   "cell_type": "code",
   "execution_count": 19,
   "id": "65160734",
   "metadata": {},
   "outputs": [],
   "source": [
    "class Reduction(nn.Module):\n",
    "    def __init__(self, scale, input_filters, is_final=False):\n",
    "        super(Reduction, self).__init__()\n",
    "        reduction_count = int(math.log(input_filters, 2)) - 2\n",
    "        self.reductions = torch.nn.Sequential()\n",
    "        for i in range(reduction_count):\n",
    "            if i != reduction_count-1:\n",
    "                self.reductions.add_module(\"1x1_reduc_%d_%d\" % (scale, i), nn.Sequential(\n",
    "                    nn.Conv2d(int(input_filters / math.pow(2, i)), int(input_filters / math.pow(2, i + 1)), 1, 1, 0, bias=ENABLE_BIAS),\n",
    "                    activation_fn))\n",
    "            else:\n",
    "                if not is_final:\n",
    "                    self.reductions.add_module(\"1x1_reduc_%d_%d\" % (scale, i), nn.Sequential(\n",
    "                        nn.Conv2d(int(input_filters / math.pow(2, i)), int(input_filters / math.pow(2, i + 1)), 1, 1, 0, bias=ENABLE_BIAS)))\n",
    "                else:\n",
    "                    self.reductions.add_module(\"1x1_reduc_%d_%d\" % (scale, i), nn.Sequential(\n",
    "                        nn.Conv2d(int(input_filters / math.pow(2, i)), 1, 1, 1, 0, bias=ENABLE_BIAS), nn.Sigmoid()))\n",
    "\n",
    "    def forward(self, ip):\n",
    "        return self.reductions(ip)"
   ]
  },
  {
   "cell_type": "code",
   "execution_count": 36,
   "id": "904c25d0",
   "metadata": {},
   "outputs": [],
   "source": [
    "class LPGLayer(nn.Module):\n",
    "    def __init__(self, scale):\n",
    "        super(LPGLayer, self).__init__()\n",
    "        self.scale = scale\n",
    "        self.u = torch.arange(self.scale).reshape([1, 1, self.scale]).float()\n",
    "        self.v = torch.arange(int(self.scale)).reshape([1, self.scale, 1]).float()\n",
    "\n",
    "    def forward(self, plane_eq):\n",
    "        plane_eq_expanded = torch.repeat_interleave(plane_eq, int(self.scale), 2)\n",
    "        plane_eq_expanded = torch.repeat_interleave(plane_eq_expanded, int(self.scale), 3)\n",
    "\n",
    "        n1 = plane_eq_expanded[:, 0, :, :]\n",
    "        n2 = plane_eq_expanded[:, 1, :, :]\n",
    "        n3 = plane_eq_expanded[:, 2, :, :]\n",
    "        n4 = plane_eq_expanded[:, 3, :, :]\n",
    "\n",
    "        u = self.u.repeat(plane_eq.size(0), plane_eq.size(2) * int(self.scale), plane_eq.size(3))\n",
    "        u = (u - (self.scale - 1) * 0.5) / self.scale\n",
    "\n",
    "        v = self.v.repeat(plane_eq.size(0), plane_eq.size(2), plane_eq.size(3) * int(self.scale))\n",
    "        v = (v - (self.scale - 1) * 0.5) / self.scale\n",
    "\n",
    "        d = n4 / (n1 * u + n2 * v + n3)\n",
    "        d = d.unsqueeze(1)\n",
    "        return d"
   ]
  },
  {
   "cell_type": "code",
   "execution_count": 63,
   "id": "bbaf4a09",
   "metadata": {},
   "outputs": [],
   "source": [
    "class LPGBlock(nn.Module):\n",
    "    def __init__(self, scale, input_filters=128):\n",
    "        super(LPGBlock, self).__init__()\n",
    "        self.scale = scale\n",
    "\n",
    "        self.reduction = Reduction(scale, input_filters)\n",
    "\n",
    "        self.conv = nn.Conv2d(5, 3, 1, 1, 0)\n",
    "        self.LPGLayer = LPGLayer(scale)\n",
    "\n",
    "    def forward(self, input):\n",
    "        input = self.reduction(input)\n",
    "\n",
    "        plane_parameters = torch.zeros_like(input)\n",
    "        input = self.conv(input)\n",
    "\n",
    "        theta = input[:, 0, :, :].sigmoid() * 3.1415926535 / 6\n",
    "        phi = input[:, 1, :, :].sigmoid() * 3.1415926535 * 2\n",
    "        dist = input[:, 2, :, :].sigmoid() * MAX_DEPTH\n",
    "\n",
    "        plane_parameters[:, 0, :, :] = torch.sin(theta) * torch.cos(phi)\n",
    "        plane_parameters[:, 1, :, :] = torch.sin(theta) * torch.sin(phi)\n",
    "        plane_parameters[:, 2, :, :] = torch.cos(theta)\n",
    "        plane_parameters[:, 3, :, :] = dist\n",
    "\n",
    "        plane_parameters[:, 0:3, :, :] = F.normalize(plane_parameters.clone()[:, 0:3, :, :], 2, 1)\n",
    "\n",
    "        depth = self.LPGLayer(plane_parameters.float())\n",
    "        return depth"
   ]
  },
  {
   "cell_type": "code",
   "execution_count": 64,
   "id": "9e415e15",
   "metadata": {},
   "outputs": [],
   "source": [
    "MAX_DEPTH = 81\n",
    "MAX_DEPTH = 81\n",
    "DEPTH_OFFSET = 0.1 # This is used for ensuring depth prediction gets into positive range\n",
    "\n",
    "USE_APEX = False  # Enable if you have GPU with Tensor Cores, otherwise doesnt really bring any benefits.\n",
    "APEX_OPT_LEVEL = \"O2\"\n",
    "\n",
    "BATCH_NORM_MOMENTUM = 0.005\n",
    "ENABLE_BIAS = True\n",
    "activation_fn = nn.ELU()"
   ]
  },
  {
   "cell_type": "code",
   "execution_count": 65,
   "id": "34b9dd79",
   "metadata": {},
   "outputs": [],
   "source": [
    "LPGBlock4 = LPGBlock(1, 4)"
   ]
  },
  {
   "cell_type": "code",
   "execution_count": 66,
   "id": "50a79ad9",
   "metadata": {},
   "outputs": [],
   "source": [
    "x = torch.rand([4, 5, 352, 704])"
   ]
  },
  {
   "cell_type": "code",
   "execution_count": 67,
   "id": "b2362267",
   "metadata": {},
   "outputs": [
    {
     "data": {
      "text/plain": [
       "torch.Size([4, 1, 352, 704])"
      ]
     },
     "execution_count": 67,
     "metadata": {},
     "output_type": "execute_result"
    }
   ],
   "source": [
    "LPGBlock4(x).shape"
   ]
  },
  {
   "cell_type": "code",
   "execution_count": null,
   "id": "05ce460a",
   "metadata": {},
   "outputs": [],
   "source": []
  },
  {
   "cell_type": "code",
   "execution_count": null,
   "id": "f4ed34ca",
   "metadata": {},
   "outputs": [],
   "source": []
  }
 ],
 "metadata": {
  "kernelspec": {
   "display_name": "Python 3 (ipykernel)",
   "language": "python",
   "name": "python3"
  },
  "language_info": {
   "codemirror_mode": {
    "name": "ipython",
    "version": 3
   },
   "file_extension": ".py",
   "mimetype": "text/x-python",
   "name": "python",
   "nbconvert_exporter": "python",
   "pygments_lexer": "ipython3",
   "version": "3.8.12"
  }
 },
 "nbformat": 4,
 "nbformat_minor": 5
}
